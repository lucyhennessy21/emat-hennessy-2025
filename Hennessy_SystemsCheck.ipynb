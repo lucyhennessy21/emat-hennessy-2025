{
 "cells": [
  {
   "cell_type": "markdown",
   "id": "8d183d89-92fd-4ce7-ad4f-db7a2d2fc621",
   "metadata": {},
   "source": [
    "# Systems Test\n",
    "## Lucy Hennessy\n",
    "### 8/20/25\n"
   ]
  },
  {
   "cell_type": "markdown",
   "id": "bb952f20-35f8-4a54-93cb-ddc467260083",
   "metadata": {},
   "source": [
    "In this class I want to learn more about _Python_\n",
    "Learning **Python** will help me with\n",
    "1. Web Development\n",
    "2. Data Analysis\n",
    "3. Problem Solving\n"
   ]
  },
  {
   "cell_type": "markdown",
   "id": "81e0c4ab-55c2-4b95-b5c1-4f278ea8a767",
   "metadata": {},
   "source": [
    "![Python logo](https://upload.wikimedia.org/wikipedia/commons/thumb/c/c3/Python-logo-notext.svg/1200px-Python-logo-notext.svg.png)"
   ]
  },
  {
   "cell_type": "code",
   "execution_count": null,
   "id": "dc28d12f-e512-4c89-804d-705c1e7a9738",
   "metadata": {},
   "outputs": [],
   "source": []
  }
 ],
 "metadata": {
  "kernelspec": {
   "display_name": "Python 3 (ipykernel)",
   "language": "python",
   "name": "python3"
  },
  "language_info": {
   "codemirror_mode": {
    "name": "ipython",
    "version": 3
   },
   "file_extension": ".py",
   "mimetype": "text/x-python",
   "name": "python",
   "nbconvert_exporter": "python",
   "pygments_lexer": "ipython3",
   "version": "3.12.11"
  }
 },
 "nbformat": 4,
 "nbformat_minor": 5
}
